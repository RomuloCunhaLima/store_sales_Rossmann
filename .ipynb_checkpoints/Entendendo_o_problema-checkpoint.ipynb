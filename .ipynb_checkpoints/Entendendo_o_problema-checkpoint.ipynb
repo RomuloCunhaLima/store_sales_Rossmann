{
 "cells": [
  {
   "cell_type": "markdown",
   "id": "7ee70b6c-3ffb-4cd2-9dfc-8682b1678d52",
   "metadata": {},
   "source": [
    "# Genérico"
   ]
  },
  {
   "cell_type": "markdown",
   "id": "056ada90-9064-4526-be9d-f16cc9648c32",
   "metadata": {},
   "source": [
    "Entender: A motivação (qual a motivação, qual é a razao?)\n",
    "\n",
    "    - qual é o contexto?\n",
    "    - de onde surgiu?\n",
    "    - reunião?\n",
    "    \n"
   ]
  },
  {
   "cell_type": "markdown",
   "id": "2260287b-e9d4-453e-bf39-0c5cc6f8596d",
   "metadata": {},
   "source": [
    "Uma vez que entende a motivação da pessoa vai ajudar a enteder a causa raiz do problema\n",
    "\n",
    "Entender: A causa raiz do problema\n",
    "    \n",
    "    - Porque fazer uma previsão de vendas?\n",
    "    - pq vc quer isso? \n",
    "    -acuracia maior? compra de produtos maior?\n",
    "    - planejamento de estoque? pra que?\n",
    "    "
   ]
  },
  {
   "cell_type": "markdown",
   "id": "057e8030-cde6-4bc6-8699-6f25a87989fb",
   "metadata": {},
   "source": [
    "quem é o maior interessado nessa solução?\n",
    "\n",
    "Entender: quem é o dono do problema\n",
    "\n",
    "    - exemplo CFO\n",
    "    - aqui vc vai ver quem é o dono do rpoblema\n",
    "    - Entaão vc não tem que faalar com o gerente que te pediu e sim com c o CFO\n",
    "    - Quem será o Stakeholder?\n",
    "    - o Stakeholder irá me guiar na solução\n",
    "    - tem que ter um cara que valide isso\n",
    "    -falar o formato e tla\n",
    "    "
   ]
  },
  {
   "cell_type": "markdown",
   "id": "07a90ce2-796a-4b6b-97f7-d87afdc595b9",
   "metadata": {},
   "source": [
    "Emntender o formato da solução?\n",
    "\n",
    "    - Granularidade\n",
    "    - vai querer uma previsão diária semanal, mensal?\n",
    "    - [por loja, produto, categoria,\n",
    "    - qual tipo de clasificação?\n",
    "    previsão, clasificação.....\n",
    "    - Omais importante é combinar o formato da entrega\n",
    "    "
   ]
  },
  {
   "cell_type": "markdown",
   "id": "e1b0b916-9026-4cd8-b993-574899159452",
   "metadata": {},
   "source": [
    "# Curso"
   ]
  },
  {
   "cell_type": "markdown",
   "id": "c67934fe-51e0-49f0-a0f7-bdd0528fd60f",
   "metadata": {},
   "source": [
    "## A Motivação:\n",
    "    - O CFO requisitou essa solução durante uma reunião de resultados mensais.\n",
    "    "
   ]
  },
  {
   "cell_type": "markdown",
   "id": "04cc04c1-bf98-4e7c-bee8-6d9ca334aad9",
   "metadata": {},
   "source": [
    "## CAusa Raiz do Problema:\n",
    "    - investimento em reforma das lojas\n",
    "   "
   ]
  },
  {
   "cell_type": "markdown",
   "id": "34cbf8ed-f8b4-445a-9a7f-82b575a4af7d",
   "metadata": {},
   "source": [
    "## Quem é o Stakeholder:\n",
    "    - O CFO"
   ]
  },
  {
   "cell_type": "markdown",
   "id": "2154944b-621c-473d-8306-339c72762918",
   "metadata": {},
   "source": [
    "## O Formato da Solução:\n",
    "    - Vendas diárias em R$, nas próximas 6 semanas"
   ]
  },
  {
   "cell_type": "markdown",
   "id": "2af4dc96-a27e-4e43-bee1-52190a5fead9",
   "metadata": {},
   "source": [
    "- É um problema de predição\n",
    "\n",
    "- Time Series, Regressão e Neural Network\n",
    "\n",
    "- Formato Soluções que podem ser acessadas via celular"
   ]
  },
  {
   "cell_type": "code",
   "execution_count": null,
   "id": "dfb5ec32-ac1a-41dd-9d19-e2848e3e37d8",
   "metadata": {},
   "outputs": [],
   "source": []
  }
 ],
 "metadata": {
  "kernelspec": {
   "display_name": "Python 3",
   "language": "python",
   "name": "python3"
  },
  "language_info": {
   "codemirror_mode": {
    "name": "ipython",
    "version": 3
   },
   "file_extension": ".py",
   "mimetype": "text/x-python",
   "name": "python",
   "nbconvert_exporter": "python",
   "pygments_lexer": "ipython3",
   "version": "3.8.8"
  }
 },
 "nbformat": 4,
 "nbformat_minor": 5
}
