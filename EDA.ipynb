{
 "cells": [
  {
   "cell_type": "markdown",
   "id": "cac3b2ec-8b15-41c3-a79f-cd5260601974",
   "metadata": {},
   "source": [
    "# Quais os 3 objetivos da EDA?"
   ]
  },
  {
   "cell_type": "markdown",
   "id": "411cb4f9-2c09-4a29-b796-6620f0d6d779",
   "metadata": {},
   "source": [
    " - Ganhar experiência de negócio\n",
    " \n",
    " - Validadar Hipoteses de negócio. (Insights)\n",
    " \n",
    " - Receber Variáveis que são importantes para o modelo."
   ]
  },
  {
   "cell_type": "code",
   "execution_count": null,
   "id": "145e9dff-d4d3-40bb-880a-6ccc8996c807",
   "metadata": {},
   "outputs": [],
   "source": []
  }
 ],
 "metadata": {
  "kernelspec": {
   "display_name": "Python 3",
   "language": "python",
   "name": "python3"
  },
  "language_info": {
   "codemirror_mode": {
    "name": "ipython",
    "version": 3
   },
   "file_extension": ".py",
   "mimetype": "text/x-python",
   "name": "python",
   "nbconvert_exporter": "python",
   "pygments_lexer": "ipython3",
   "version": "3.8.8"
  }
 },
 "nbformat": 4,
 "nbformat_minor": 5
}
